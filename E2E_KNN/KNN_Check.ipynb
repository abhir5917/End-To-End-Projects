{
 "cells": [
  {
   "cell_type": "code",
   "execution_count": 1,
   "id": "8bddc578",
   "metadata": {},
   "outputs": [],
   "source": [
    "import pandas as pd\n",
    "import numpy as np\n",
    "import pickle"
   ]
  },
  {
   "cell_type": "code",
   "execution_count": 2,
   "id": "1ad68d82",
   "metadata": {},
   "outputs": [],
   "source": [
    "Gender = 0\n",
    "Age = 22\n",
    "Annual_Income = 12"
   ]
  },
  {
   "cell_type": "code",
   "execution_count": 3,
   "id": "ad9aa792",
   "metadata": {},
   "outputs": [],
   "source": [
    "x = np.array([[Gender, Age, Annual_Income]])"
   ]
  },
  {
   "cell_type": "code",
   "execution_count": 4,
   "id": "f9d5cabf",
   "metadata": {},
   "outputs": [],
   "source": [
    "model = pickle.load(open('knn_model.pkl', 'rb'))"
   ]
  },
  {
   "cell_type": "code",
   "execution_count": 5,
   "id": "3f26910d",
   "metadata": {},
   "outputs": [],
   "source": [
    "y_prediction = model.predict(x)"
   ]
  },
  {
   "cell_type": "code",
   "execution_count": 6,
   "id": "7535f182",
   "metadata": {},
   "outputs": [
    {
     "data": {
      "text/plain": [
       "array([14], dtype=int64)"
      ]
     },
     "execution_count": 6,
     "metadata": {},
     "output_type": "execute_result"
    }
   ],
   "source": [
    "y_prediction"
   ]
  },
  {
   "cell_type": "code",
   "execution_count": null,
   "id": "bd424733",
   "metadata": {},
   "outputs": [],
   "source": []
  }
 ],
 "metadata": {
  "kernelspec": {
   "display_name": "Python 3 (ipykernel)",
   "language": "python",
   "name": "python3"
  },
  "language_info": {
   "codemirror_mode": {
    "name": "ipython",
    "version": 3
   },
   "file_extension": ".py",
   "mimetype": "text/x-python",
   "name": "python",
   "nbconvert_exporter": "python",
   "pygments_lexer": "ipython3",
   "version": "3.9.7"
  }
 },
 "nbformat": 4,
 "nbformat_minor": 5
}
